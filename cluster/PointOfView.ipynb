{
 "cells": [
  {
   "cell_type": "markdown",
   "metadata": {},
   "source": [
    "# クラスタリングの視点\n",
    "## 階層的手法、非階層的手法\n",
    "### 階層的手法\n",
    "* 階層的手法は、各データを1つのクラスタとまずはおき、クラスタ間の距離・類似度に基づいて、クラスタを逐次的に併合していく手法。\n",
    "* この手法だと、データの階層構造（ツリー）を得ることができる。\n",
    "* 具体的な手法としては、単連結法、ウォード法等。\n",
    "\n",
    "### 非階層的手法\n",
    "* データの分割の良さを表すある評価関数によって最適解を探索する手法\n",
    "* 具体的な手法としては、k-meansなど。"
   ]
  },
  {
   "cell_type": "markdown",
   "metadata": {},
   "source": [
    "# ソフトクラスタリングとハードクラスタリング\n",
    "## ソフトクラスタリング\n",
    "* ソフトクラスタリングは、データが複数のクラスタに属することを許すクラスタリング手法\n",
    "* そのため、データが各クラスタに属する度合いが出力となる。\n",
    "\n",
    "## ハードクラスタリング\n",
    "* ハードクラスタリングは、データがある1つのクラスタに属する形のクラスタリング手法"
   ]
  },
  {
   "cell_type": "markdown",
   "metadata": {},
   "source": [
    "## 参考\n",
    "* [クラスタリング入門](http://nlp.dse.ibaraki.ac.jp/~shinnou/zemi2008/Rclustering/r-tanaka-0415.pdf)"
   ]
  }
 ],
 "metadata": {
  "kernelspec": {
   "display_name": "Python 3",
   "language": "python",
   "name": "python3"
  },
  "language_info": {
   "codemirror_mode": {
    "name": "ipython",
    "version": 3
   },
   "file_extension": ".py",
   "mimetype": "text/x-python",
   "name": "python",
   "nbconvert_exporter": "python",
   "pygments_lexer": "ipython3",
   "version": "3.6.3"
  }
 },
 "nbformat": 4,
 "nbformat_minor": 2
}
