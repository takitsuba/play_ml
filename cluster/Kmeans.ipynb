{
 "cells": [
  {
   "cell_type": "markdown",
   "metadata": {},
   "source": [
    "# Kmeans\n",
    "* Kmeansは教師なし学習の1つ。クラスタリングの手法。\n",
    "* データの近さを元に、指定したK個のクラスに分類する。\n",
    "* まずは、サンプルのデータを作成する。"
   ]
  },
  {
   "cell_type": "code",
   "execution_count": 1,
   "metadata": {},
   "outputs": [],
   "source": [
    "from sklearn.cluster import KMeans\n",
    "import numpy as np\n",
    "import matplotlib.pyplot as plt\n",
    "import seaborn as sns\n",
    "sns.set_style(\"darkgrid\")\n",
    "%matplotlib inline\n",
    "\n",
    "X = np.array([[1,1],[1,2],[2,1],\n",
    "             [4,1],[5,1],[4,2],\n",
    "             [2,5],[2,6],[3,6]])"
   ]
  },
  {
   "cell_type": "code",
   "execution_count": 2,
   "metadata": {},
   "outputs": [
    {
     "data": {
      "text/plain": [
       "<matplotlib.collections.PathCollection at 0x10b257fd0>"
      ]
     },
     "execution_count": 2,
     "metadata": {},
     "output_type": "execute_result"
    },
    {
     "data": {
      "image/png": "[encoded data removed]",
      "text/plain": [
       "<matplotlib.figure.Figure at 0x1054ac080>"
      ]
     },
     "metadata": {},
     "output_type": "display_data"
    }
   ],
   "source": [
    "plt.scatter(X[:,0],X[:,1])"
   ]
  },
  {
   "cell_type": "markdown",
   "metadata": {},
   "source": [
    "* 上の表を見ると、上と左下と右下に3つのグループがあるように見える。これを機械的に3つに分類する。\n",
    "* アルゴリズムとしては下記。K=3とする。\n",
    "    1. K個のサンプルを適当に取り出し、それぞれをクラスA,B,Cとする。\n",
    "    2. 余ったサンプルを、1で分類したサンプルのうち、どれに最も近いのか調べる。\n",
    "    3. 最も近いクラスに分類する。\n",
    "    4. クラスA,B,Cごとで平均A',B',C'を取る。\n",
    "    5. 全サンプルを、A_m、B_m,C_mのどれに最も近いのか調べ、最も平均の近いクラスA,B,Cに分類する。\n",
    "    6. 平均が動かなくなるまで、4~5を繰り返す。\n",
    "* 実行したのが下記。"
   ]
  },
  {
   "cell_type": "code",
   "execution_count": 3,
   "metadata": {},
   "outputs": [
    {
     "data": {
      "text/plain": [
       "array([2, 2, 2, 1, 1, 1, 0, 0, 0], dtype=int32)"
      ]
     },
     "execution_count": 3,
     "metadata": {},
     "output_type": "execute_result"
    }
   ],
   "source": [
    "kmeans = KMeans(n_clusters=3, init=\"random\", random_state=0).fit(X)\n",
    "kmeans.labels_"
   ]
  },
  {
   "cell_type": "code",
   "execution_count": 4,
   "metadata": {},
   "outputs": [
    {
     "data": {
      "text/plain": [
       "<matplotlib.collections.PathCollection at 0x10b47f358>"
      ]
     },
     "execution_count": 4,
     "metadata": {},
     "output_type": "execute_result"
    },
    {
     "data": {
      "image/png": "[encoded data removed]",
      "text/plain": [
       "<matplotlib.figure.Figure at 0x10489b470>"
      ]
     },
     "metadata": {},
     "output_type": "display_data"
    }
   ],
   "source": [
    "plt.scatter(X[:,0],X[:,1],c=kmeans.labels_,cmap='Accent')"
   ]
  },
  {
   "cell_type": "markdown",
   "metadata": {},
   "source": [
    "* 上記を見ると、人間の感覚と同じように3つに分類できている。\n",
    "* ただし、上記ではK=3の指定は恣意的に行ってしまっている。Kの数の決め方としては[エルボー法](https://qiita.com/deaikei/items/11a10fde5bb47a2cf2c2#%E3%82%A8%E3%83%AB%E3%83%9C%E3%83%BC%E6%B3%95)などがある。"
   ]
  },
  {
   "cell_type": "markdown",
   "metadata": {},
   "source": [
    "# 関連手法\n",
    "## k-means++\n",
    "* 初期値で設定する値をなるべく広げて取るように計算する手法。\n",
    "* k-meansよりも安定的な結果。\n",
    "* sklearnでは、KMeansメソッドの`init`に`k-means++`を設定すれば動く。（デフォルト値も`k-means++`）"
   ]
  },
  {
   "cell_type": "markdown",
   "metadata": {},
   "source": [
    "## k-medoids\n",
    "* k-meansはクラスのサンプルの平均値を次の中心点に用いている。\n",
    "* k-medoidsは中央値を用いる。そのため、中心点が実在する点を取る。\n",
    "* k-medoisの方が、外れ値による影響が少なくなる。\n",
    "* `sklearn`に実装されてないため、自分で実装する必要がある。"
   ]
  },
  {
   "cell_type": "markdown",
   "metadata": {},
   "source": [
    "## シルエット分析\n",
    "* クラス内のサンプルがどの程度密にグループされているかをグラフにすることで、適切なクラス数を把握する。\n",
    "* 別途追記"
   ]
  }
 ],
 "metadata": {
  "kernelspec": {
   "display_name": "Python 3",
   "language": "python",
   "name": "python3"
  },
  "language_info": {
   "codemirror_mode": {
    "name": "ipython",
    "version": 3
   },
   "file_extension": ".py",
   "mimetype": "text/x-python",
   "name": "python",
   "nbconvert_exporter": "python",
   "pygments_lexer": "ipython3",
   "version": "3.6.3"
  }
 },
 "nbformat": 4,
 "nbformat_minor": 2
}
