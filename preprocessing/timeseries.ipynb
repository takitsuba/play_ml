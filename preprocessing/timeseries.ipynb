{
 "cells": [
  {
   "cell_type": "markdown",
   "metadata": {},
   "source": [
    "# timeseries\n",
    "* 時系列データの前処理について書いていく。"
   ]
  },
  {
   "cell_type": "markdown",
   "metadata": {},
   "source": [
    "# 差分\n",
    "* 時系列データは1時点離れたデータとの差を用いることが多い。このようなデータを差分系列、階差系列と呼ぶ。"
   ]
  },
  {
   "cell_type": "code",
   "execution_count": 1,
   "metadata": {},
   "outputs": [],
   "source": [
    "import pandas as pd\n",
    "from datetime import datetime, timedelta\n",
    "import numpy as np"
   ]
  },
  {
   "cell_type": "markdown",
   "metadata": {},
   "source": [
    "### サンプルデータの作成"
   ]
  },
  {
   "cell_type": "code",
   "execution_count": 2,
   "metadata": {},
   "outputs": [],
   "source": [
    "# 時間のリストの効率的な作り方がわからない\n",
    "start_time = datetime(2017, 11, 1, 10, 0, 0, 0)\n",
    "time_list = []\n",
    "for i in range(100):\n",
    "    t = start_time + timedelta(seconds=i)\n",
    "    time_list.append(t)\n",
    "    \n",
    "price = 50000\n",
    "price_list = []\n",
    "for _ in range(100):\n",
    "    price += np.random.randint(-500,500)\n",
    "    price_list.append(price)"
   ]
  },
  {
   "cell_type": "code",
   "execution_count": 3,
   "metadata": {},
   "outputs": [
    {
     "data": {
      "text/html": [
       "<div>\n",
       "<style scoped>\n",
       "    .dataframe tbody tr th:only-of-type {\n",
       "        vertical-align: middle;\n",
       "    }\n",
       "\n",
       "    .dataframe tbody tr th {\n",
       "        vertical-align: top;\n",
       "    }\n",
       "\n",
       "    .dataframe thead th {\n",
       "        text-align: right;\n",
       "    }\n",
       "</style>\n",
       "<table border=\"1\" class=\"dataframe\">\n",
       "  <thead>\n",
       "    <tr style=\"text-align: right;\">\n",
       "      <th></th>\n",
       "      <th>price</th>\n",
       "    </tr>\n",
       "  </thead>\n",
       "  <tbody>\n",
       "    <tr>\n",
       "      <th>2017-11-01 10:00:00</th>\n",
       "      <td>49793</td>\n",
       "    </tr>\n",
       "    <tr>\n",
       "      <th>2017-11-01 10:00:01</th>\n",
       "      <td>49848</td>\n",
       "    </tr>\n",
       "    <tr>\n",
       "      <th>2017-11-01 10:00:02</th>\n",
       "      <td>50282</td>\n",
       "    </tr>\n",
       "    <tr>\n",
       "      <th>2017-11-01 10:00:03</th>\n",
       "      <td>50104</td>\n",
       "    </tr>\n",
       "    <tr>\n",
       "      <th>2017-11-01 10:00:04</th>\n",
       "      <td>49838</td>\n",
       "    </tr>\n",
       "    <tr>\n",
       "      <th>2017-11-01 10:00:05</th>\n",
       "      <td>50045</td>\n",
       "    </tr>\n",
       "    <tr>\n",
       "      <th>2017-11-01 10:00:06</th>\n",
       "      <td>49772</td>\n",
       "    </tr>\n",
       "    <tr>\n",
       "      <th>2017-11-01 10:00:07</th>\n",
       "      <td>50138</td>\n",
       "    </tr>\n",
       "    <tr>\n",
       "      <th>2017-11-01 10:00:08</th>\n",
       "      <td>50568</td>\n",
       "    </tr>\n",
       "    <tr>\n",
       "      <th>2017-11-01 10:00:09</th>\n",
       "      <td>50862</td>\n",
       "    </tr>\n",
       "  </tbody>\n",
       "</table>\n",
       "</div>"
      ],
      "text/plain": [
       "                     price\n",
       "2017-11-01 10:00:00  49793\n",
       "2017-11-01 10:00:01  49848\n",
       "2017-11-01 10:00:02  50282\n",
       "2017-11-01 10:00:03  50104\n",
       "2017-11-01 10:00:04  49838\n",
       "2017-11-01 10:00:05  50045\n",
       "2017-11-01 10:00:06  49772\n",
       "2017-11-01 10:00:07  50138\n",
       "2017-11-01 10:00:08  50568\n",
       "2017-11-01 10:00:09  50862"
      ]
     },
     "execution_count": 3,
     "metadata": {},
     "output_type": "execute_result"
    }
   ],
   "source": [
    "df = pd.DataFrame(price_list,index=time_list,columns=[\"price\"])\n",
    "df.head(10)"
   ]
  },
  {
   "cell_type": "markdown",
   "metadata": {},
   "source": [
    "* 上記のような秒間データがあったとする。"
   ]
  },
  {
   "cell_type": "markdown",
   "metadata": {},
   "source": [
    "### 差分の作成"
   ]
  },
  {
   "cell_type": "markdown",
   "metadata": {},
   "source": [
    "* pd.DataFrame.diff()を用いることで、差分を取ることができる。"
   ]
  },
  {
   "cell_type": "code",
   "execution_count": 4,
   "metadata": {},
   "outputs": [
    {
     "data": {
      "text/html": [
       "<div>\n",
       "<style scoped>\n",
       "    .dataframe tbody tr th:only-of-type {\n",
       "        vertical-align: middle;\n",
       "    }\n",
       "\n",
       "    .dataframe tbody tr th {\n",
       "        vertical-align: top;\n",
       "    }\n",
       "\n",
       "    .dataframe thead th {\n",
       "        text-align: right;\n",
       "    }\n",
       "</style>\n",
       "<table border=\"1\" class=\"dataframe\">\n",
       "  <thead>\n",
       "    <tr style=\"text-align: right;\">\n",
       "      <th></th>\n",
       "      <th>price</th>\n",
       "      <th>diff_1</th>\n",
       "    </tr>\n",
       "  </thead>\n",
       "  <tbody>\n",
       "    <tr>\n",
       "      <th>2017-11-01 10:00:00</th>\n",
       "      <td>49793</td>\n",
       "      <td>NaN</td>\n",
       "    </tr>\n",
       "    <tr>\n",
       "      <th>2017-11-01 10:00:01</th>\n",
       "      <td>49848</td>\n",
       "      <td>55.0</td>\n",
       "    </tr>\n",
       "    <tr>\n",
       "      <th>2017-11-01 10:00:02</th>\n",
       "      <td>50282</td>\n",
       "      <td>434.0</td>\n",
       "    </tr>\n",
       "    <tr>\n",
       "      <th>2017-11-01 10:00:03</th>\n",
       "      <td>50104</td>\n",
       "      <td>-178.0</td>\n",
       "    </tr>\n",
       "    <tr>\n",
       "      <th>2017-11-01 10:00:04</th>\n",
       "      <td>49838</td>\n",
       "      <td>-266.0</td>\n",
       "    </tr>\n",
       "  </tbody>\n",
       "</table>\n",
       "</div>"
      ],
      "text/plain": [
       "                     price  diff_1\n",
       "2017-11-01 10:00:00  49793     NaN\n",
       "2017-11-01 10:00:01  49848    55.0\n",
       "2017-11-01 10:00:02  50282   434.0\n",
       "2017-11-01 10:00:03  50104  -178.0\n",
       "2017-11-01 10:00:04  49838  -266.0"
      ]
     },
     "execution_count": 4,
     "metadata": {},
     "output_type": "execute_result"
    }
   ],
   "source": [
    "df[\"diff_1\"] = df.diff()\n",
    "df.head()"
   ]
  },
  {
   "cell_type": "markdown",
   "metadata": {},
   "source": [
    "* periodsを指定することで、差分を取る間隔を変更することができる。"
   ]
  },
  {
   "cell_type": "code",
   "execution_count": 5,
   "metadata": {},
   "outputs": [
    {
     "data": {
      "text/html": [
       "<div>\n",
       "<style scoped>\n",
       "    .dataframe tbody tr th:only-of-type {\n",
       "        vertical-align: middle;\n",
       "    }\n",
       "\n",
       "    .dataframe tbody tr th {\n",
       "        vertical-align: top;\n",
       "    }\n",
       "\n",
       "    .dataframe thead th {\n",
       "        text-align: right;\n",
       "    }\n",
       "</style>\n",
       "<table border=\"1\" class=\"dataframe\">\n",
       "  <thead>\n",
       "    <tr style=\"text-align: right;\">\n",
       "      <th></th>\n",
       "      <th>price</th>\n",
       "      <th>diff_1</th>\n",
       "      <th>diff_3</th>\n",
       "    </tr>\n",
       "  </thead>\n",
       "  <tbody>\n",
       "    <tr>\n",
       "      <th>2017-11-01 10:00:00</th>\n",
       "      <td>49793</td>\n",
       "      <td>NaN</td>\n",
       "      <td>NaN</td>\n",
       "    </tr>\n",
       "    <tr>\n",
       "      <th>2017-11-01 10:00:01</th>\n",
       "      <td>49848</td>\n",
       "      <td>55.0</td>\n",
       "      <td>NaN</td>\n",
       "    </tr>\n",
       "    <tr>\n",
       "      <th>2017-11-01 10:00:02</th>\n",
       "      <td>50282</td>\n",
       "      <td>434.0</td>\n",
       "      <td>NaN</td>\n",
       "    </tr>\n",
       "    <tr>\n",
       "      <th>2017-11-01 10:00:03</th>\n",
       "      <td>50104</td>\n",
       "      <td>-178.0</td>\n",
       "      <td>311.0</td>\n",
       "    </tr>\n",
       "    <tr>\n",
       "      <th>2017-11-01 10:00:04</th>\n",
       "      <td>49838</td>\n",
       "      <td>-266.0</td>\n",
       "      <td>-10.0</td>\n",
       "    </tr>\n",
       "  </tbody>\n",
       "</table>\n",
       "</div>"
      ],
      "text/plain": [
       "                     price  diff_1  diff_3\n",
       "2017-11-01 10:00:00  49793     NaN     NaN\n",
       "2017-11-01 10:00:01  49848    55.0     NaN\n",
       "2017-11-01 10:00:02  50282   434.0     NaN\n",
       "2017-11-01 10:00:03  50104  -178.0   311.0\n",
       "2017-11-01 10:00:04  49838  -266.0   -10.0"
      ]
     },
     "execution_count": 5,
     "metadata": {},
     "output_type": "execute_result"
    }
   ],
   "source": [
    "df[\"diff_3\"] = df[\"price\"].diff(periods=3)\n",
    "df.head()"
   ]
  }
 ],
 "metadata": {
  "kernelspec": {
   "display_name": "Python 3",
   "language": "python",
   "name": "python3"
  },
  "language_info": {
   "codemirror_mode": {
    "name": "ipython",
    "version": 3
   },
   "file_extension": ".py",
   "mimetype": "text/x-python",
   "name": "python",
   "nbconvert_exporter": "python",
   "pygments_lexer": "ipython3",
   "version": "3.6.3"
  }
 },
 "nbformat": 4,
 "nbformat_minor": 2
}
