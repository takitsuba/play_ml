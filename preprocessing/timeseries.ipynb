{
 "cells": [
  {
   "cell_type": "markdown",
   "metadata": {},
   "source": [
    "# timeseries\n",
    "* 時系列データの前処理について書いていく。"
   ]
  },
  {
   "cell_type": "markdown",
   "metadata": {},
   "source": [
    "# csvの読み込み\n",
    "* csvの読み込みにはpd.read_csvを用いることが多いと思う\n",
    "* オプションの `parse_dates` を用いると特定の行を `datetime`形式として取り込める"
   ]
  },
  {
   "cell_type": "code",
   "execution_count": 1,
   "metadata": {},
   "outputs": [],
   "source": [
    "import pandas as pd\n",
    "from datetime import datetime, timedelta\n",
    "import numpy as np"
   ]
  },
  {
   "cell_type": "markdown",
   "metadata": {},
   "source": [
    "## サンプルのcsvファイルを作成"
   ]
  },
  {
   "cell_type": "code",
   "execution_count": 2,
   "metadata": {},
   "outputs": [
    {
     "data": {
      "text/html": [
       "<div>\n",
       "<style scoped>\n",
       "    .dataframe tbody tr th:only-of-type {\n",
       "        vertical-align: middle;\n",
       "    }\n",
       "\n",
       "    .dataframe tbody tr th {\n",
       "        vertical-align: top;\n",
       "    }\n",
       "\n",
       "    .dataframe thead th {\n",
       "        text-align: right;\n",
       "    }\n",
       "</style>\n",
       "<table border=\"1\" class=\"dataframe\">\n",
       "  <thead>\n",
       "    <tr style=\"text-align: right;\">\n",
       "      <th></th>\n",
       "      <th>date_time</th>\n",
       "      <th>price</th>\n",
       "    </tr>\n",
       "  </thead>\n",
       "  <tbody>\n",
       "    <tr>\n",
       "      <th>0</th>\n",
       "      <td>2017-11-01 10:00:00</td>\n",
       "      <td>49859</td>\n",
       "    </tr>\n",
       "    <tr>\n",
       "      <th>1</th>\n",
       "      <td>2017-11-01 10:00:01</td>\n",
       "      <td>49874</td>\n",
       "    </tr>\n",
       "    <tr>\n",
       "      <th>2</th>\n",
       "      <td>2017-11-01 10:00:02</td>\n",
       "      <td>49757</td>\n",
       "    </tr>\n",
       "    <tr>\n",
       "      <th>3</th>\n",
       "      <td>2017-11-01 10:00:03</td>\n",
       "      <td>49495</td>\n",
       "    </tr>\n",
       "    <tr>\n",
       "      <th>4</th>\n",
       "      <td>2017-11-01 10:00:04</td>\n",
       "      <td>49430</td>\n",
       "    </tr>\n",
       "  </tbody>\n",
       "</table>\n",
       "</div>"
      ],
      "text/plain": [
       "             date_time  price\n",
       "0  2017-11-01 10:00:00  49859\n",
       "1  2017-11-01 10:00:01  49874\n",
       "2  2017-11-01 10:00:02  49757\n",
       "3  2017-11-01 10:00:03  49495\n",
       "4  2017-11-01 10:00:04  49430"
      ]
     },
     "execution_count": 2,
     "metadata": {},
     "output_type": "execute_result"
    }
   ],
   "source": [
    "start_time = datetime(2017, 11, 1, 10, 0, 0, 0)\n",
    "time_list = []\n",
    "for i in range(100):\n",
    "    t = start_time + timedelta(seconds=i)\n",
    "    time_list.append(t)\n",
    "    \n",
    "price = 50000\n",
    "price_list = []\n",
    "for _ in range(100):\n",
    "    price += np.random.randint(-500,500)\n",
    "    price_list.append(price)\n",
    "    \n",
    "\n",
    "df = pd.DataFrame([time_list,price_list]).T\n",
    "df.columns=[\"date_time\",\"price\"]\n",
    "df.head()"
   ]
  },
  {
   "cell_type": "code",
   "execution_count": 3,
   "metadata": {},
   "outputs": [],
   "source": [
    "df.to_csv(\"tp_sample.csv\",index=False)"
   ]
  },
  {
   "cell_type": "markdown",
   "metadata": {},
   "source": [
    "## parse_dates を用いない場合"
   ]
  },
  {
   "cell_type": "code",
   "execution_count": 4,
   "metadata": {},
   "outputs": [
    {
     "name": "stdout",
     "output_type": "stream",
     "text": [
      "<class 'pandas.core.frame.DataFrame'>\n",
      "RangeIndex: 100 entries, 0 to 99\n",
      "Data columns (total 2 columns):\n",
      "date_time    100 non-null object\n",
      "price        100 non-null int64\n",
      "dtypes: int64(1), object(1)\n",
      "memory usage: 1.6+ KB\n"
     ]
    }
   ],
   "source": [
    "df_no_parse = pd.read_csv(\"tp_sample.csv\")\n",
    "df_no_parse.info()"
   ]
  },
  {
   "cell_type": "code",
   "execution_count": 5,
   "metadata": {},
   "outputs": [
    {
     "data": {
      "text/plain": [
       "str"
      ]
     },
     "execution_count": 5,
     "metadata": {},
     "output_type": "execute_result"
    }
   ],
   "source": [
    "type(df_no_parse.date_time[0])"
   ]
  },
  {
   "cell_type": "code",
   "execution_count": 6,
   "metadata": {},
   "outputs": [
    {
     "ename": "TypeError",
     "evalue": "must be str, not datetime.timedelta",
     "output_type": "error",
     "traceback": [
      "\u001b[0;31m---------------------------------------------------------------------------\u001b[0m",
      "\u001b[0;31mTypeError\u001b[0m                                 Traceback (most recent call last)",
      "\u001b[0;32m<ipython-input-6-1139845dcb7e>\u001b[0m in \u001b[0;36m<module>\u001b[0;34m()\u001b[0m\n\u001b[1;32m      1\u001b[0m \u001b[0;32mfrom\u001b[0m \u001b[0mdatetime\u001b[0m \u001b[0;32mimport\u001b[0m \u001b[0mtimedelta\u001b[0m\u001b[0;34m\u001b[0m\u001b[0m\n\u001b[0;32m----> 2\u001b[0;31m \u001b[0mdf_no_parse\u001b[0m\u001b[0;34m.\u001b[0m\u001b[0mdate_time\u001b[0m\u001b[0;34m[\u001b[0m\u001b[0;36m0\u001b[0m\u001b[0;34m]\u001b[0m \u001b[0;34m+\u001b[0m \u001b[0mtimedelta\u001b[0m\u001b[0;34m(\u001b[0m\u001b[0mseconds\u001b[0m\u001b[0;34m=\u001b[0m\u001b[0;36m1\u001b[0m\u001b[0;34m)\u001b[0m\u001b[0;34m\u001b[0m\u001b[0m\n\u001b[0m",
      "\u001b[0;31mTypeError\u001b[0m: must be str, not datetime.timedelta"
     ]
    }
   ],
   "source": [
    "from datetime import timedelta\n",
    "df_no_parse.date_time[0] + timedelta(seconds=1)"
   ]
  },
  {
   "cell_type": "markdown",
   "metadata": {},
   "source": [
    "* `parse_dates` を用いないと、 `str` として扱われる\n",
    "* `timedelta` を用いた時間の足し算等もできない"
   ]
  },
  {
   "cell_type": "markdown",
   "metadata": {},
   "source": [
    "## parse_dates を用いる場合\n",
    "* `read_csv` のオプション `parse_dates` にリストで、 `datetime` として扱いたいカラム名を与えてあげる。"
   ]
  },
  {
   "cell_type": "code",
   "execution_count": 7,
   "metadata": {},
   "outputs": [
    {
     "name": "stdout",
     "output_type": "stream",
     "text": [
      "<class 'pandas.core.frame.DataFrame'>\n",
      "RangeIndex: 100 entries, 0 to 99\n",
      "Data columns (total 2 columns):\n",
      "date_time    100 non-null datetime64[ns]\n",
      "price        100 non-null int64\n",
      "dtypes: datetime64[ns](1), int64(1)\n",
      "memory usage: 1.6 KB\n"
     ]
    }
   ],
   "source": [
    "df_parse = pd.read_csv(\"tp_sample.csv\",parse_dates=[\"date_time\"])\n",
    "df_parse.info()"
   ]
  },
  {
   "cell_type": "code",
   "execution_count": 8,
   "metadata": {},
   "outputs": [
    {
     "data": {
      "text/plain": [
       "pandas._libs.tslib.Timestamp"
      ]
     },
     "execution_count": 8,
     "metadata": {},
     "output_type": "execute_result"
    }
   ],
   "source": [
    "type(df_parse.date_time[0])"
   ]
  },
  {
   "cell_type": "code",
   "execution_count": 9,
   "metadata": {},
   "outputs": [
    {
     "data": {
      "text/plain": [
       "Timestamp('2017-11-01 10:00:00')"
      ]
     },
     "execution_count": 9,
     "metadata": {},
     "output_type": "execute_result"
    }
   ],
   "source": [
    "df_parse.date_time[0]"
   ]
  },
  {
   "cell_type": "code",
   "execution_count": 10,
   "metadata": {},
   "outputs": [
    {
     "data": {
      "text/plain": [
       "Timestamp('2017-11-01 10:00:01')"
      ]
     },
     "execution_count": 10,
     "metadata": {},
     "output_type": "execute_result"
    }
   ],
   "source": [
    "df_parse.date_time[0] + timedelta(seconds=1)"
   ]
  },
  {
   "cell_type": "markdown",
   "metadata": {},
   "source": [
    "* `datetime` として扱われ、 `timedelta` を用いた時間の足し算もできている。"
   ]
  },
  {
   "cell_type": "markdown",
   "metadata": {},
   "source": [
    "# 差分\n",
    "* 時系列データは1時点離れたデータとの差を用いることが多い。このようなデータを差分系列、階差系列と呼ぶ。"
   ]
  },
  {
   "cell_type": "markdown",
   "metadata": {},
   "source": [
    "### サンプルデータの作成"
   ]
  },
  {
   "cell_type": "code",
   "execution_count": 11,
   "metadata": {},
   "outputs": [],
   "source": [
    "# 時間のリストの効率的な作り方がわからない\n",
    "start_time = datetime(2017, 11, 1, 10, 0, 0, 0)\n",
    "time_list = []\n",
    "for i in range(100):\n",
    "    t = start_time + timedelta(seconds=i)\n",
    "    time_list.append(t)\n",
    "    \n",
    "price = 50000\n",
    "price_list = []\n",
    "for _ in range(100):\n",
    "    price += np.random.randint(-500,500)\n",
    "    price_list.append(price)"
   ]
  },
  {
   "cell_type": "code",
   "execution_count": 12,
   "metadata": {},
   "outputs": [
    {
     "data": {
      "text/html": [
       "<div>\n",
       "<style scoped>\n",
       "    .dataframe tbody tr th:only-of-type {\n",
       "        vertical-align: middle;\n",
       "    }\n",
       "\n",
       "    .dataframe tbody tr th {\n",
       "        vertical-align: top;\n",
       "    }\n",
       "\n",
       "    .dataframe thead th {\n",
       "        text-align: right;\n",
       "    }\n",
       "</style>\n",
       "<table border=\"1\" class=\"dataframe\">\n",
       "  <thead>\n",
       "    <tr style=\"text-align: right;\">\n",
       "      <th></th>\n",
       "      <th>price</th>\n",
       "    </tr>\n",
       "  </thead>\n",
       "  <tbody>\n",
       "    <tr>\n",
       "      <th>2017-11-01 10:00:00</th>\n",
       "      <td>49501</td>\n",
       "    </tr>\n",
       "    <tr>\n",
       "      <th>2017-11-01 10:00:01</th>\n",
       "      <td>49239</td>\n",
       "    </tr>\n",
       "    <tr>\n",
       "      <th>2017-11-01 10:00:02</th>\n",
       "      <td>49666</td>\n",
       "    </tr>\n",
       "    <tr>\n",
       "      <th>2017-11-01 10:00:03</th>\n",
       "      <td>50036</td>\n",
       "    </tr>\n",
       "    <tr>\n",
       "      <th>2017-11-01 10:00:04</th>\n",
       "      <td>50067</td>\n",
       "    </tr>\n",
       "    <tr>\n",
       "      <th>2017-11-01 10:00:05</th>\n",
       "      <td>49913</td>\n",
       "    </tr>\n",
       "    <tr>\n",
       "      <th>2017-11-01 10:00:06</th>\n",
       "      <td>50003</td>\n",
       "    </tr>\n",
       "    <tr>\n",
       "      <th>2017-11-01 10:00:07</th>\n",
       "      <td>49540</td>\n",
       "    </tr>\n",
       "    <tr>\n",
       "      <th>2017-11-01 10:00:08</th>\n",
       "      <td>49956</td>\n",
       "    </tr>\n",
       "    <tr>\n",
       "      <th>2017-11-01 10:00:09</th>\n",
       "      <td>49579</td>\n",
       "    </tr>\n",
       "  </tbody>\n",
       "</table>\n",
       "</div>"
      ],
      "text/plain": [
       "                     price\n",
       "2017-11-01 10:00:00  49501\n",
       "2017-11-01 10:00:01  49239\n",
       "2017-11-01 10:00:02  49666\n",
       "2017-11-01 10:00:03  50036\n",
       "2017-11-01 10:00:04  50067\n",
       "2017-11-01 10:00:05  49913\n",
       "2017-11-01 10:00:06  50003\n",
       "2017-11-01 10:00:07  49540\n",
       "2017-11-01 10:00:08  49956\n",
       "2017-11-01 10:00:09  49579"
      ]
     },
     "execution_count": 12,
     "metadata": {},
     "output_type": "execute_result"
    }
   ],
   "source": [
    "df = pd.DataFrame(price_list,index=time_list,columns=[\"price\"])\n",
    "df.head(10)"
   ]
  },
  {
   "cell_type": "markdown",
   "metadata": {},
   "source": [
    "* 上記のような秒間データがあったとする。"
   ]
  },
  {
   "cell_type": "markdown",
   "metadata": {},
   "source": [
    "### 差分の作成"
   ]
  },
  {
   "cell_type": "markdown",
   "metadata": {},
   "source": [
    "* pd.DataFrame.diff()を用いることで、差分を取ることができる。"
   ]
  },
  {
   "cell_type": "code",
   "execution_count": 13,
   "metadata": {},
   "outputs": [
    {
     "data": {
      "text/html": [
       "<div>\n",
       "<style scoped>\n",
       "    .dataframe tbody tr th:only-of-type {\n",
       "        vertical-align: middle;\n",
       "    }\n",
       "\n",
       "    .dataframe tbody tr th {\n",
       "        vertical-align: top;\n",
       "    }\n",
       "\n",
       "    .dataframe thead th {\n",
       "        text-align: right;\n",
       "    }\n",
       "</style>\n",
       "<table border=\"1\" class=\"dataframe\">\n",
       "  <thead>\n",
       "    <tr style=\"text-align: right;\">\n",
       "      <th></th>\n",
       "      <th>price</th>\n",
       "      <th>diff_1</th>\n",
       "    </tr>\n",
       "  </thead>\n",
       "  <tbody>\n",
       "    <tr>\n",
       "      <th>2017-11-01 10:00:00</th>\n",
       "      <td>49501</td>\n",
       "      <td>NaN</td>\n",
       "    </tr>\n",
       "    <tr>\n",
       "      <th>2017-11-01 10:00:01</th>\n",
       "      <td>49239</td>\n",
       "      <td>-262.0</td>\n",
       "    </tr>\n",
       "    <tr>\n",
       "      <th>2017-11-01 10:00:02</th>\n",
       "      <td>49666</td>\n",
       "      <td>427.0</td>\n",
       "    </tr>\n",
       "    <tr>\n",
       "      <th>2017-11-01 10:00:03</th>\n",
       "      <td>50036</td>\n",
       "      <td>370.0</td>\n",
       "    </tr>\n",
       "    <tr>\n",
       "      <th>2017-11-01 10:00:04</th>\n",
       "      <td>50067</td>\n",
       "      <td>31.0</td>\n",
       "    </tr>\n",
       "  </tbody>\n",
       "</table>\n",
       "</div>"
      ],
      "text/plain": [
       "                     price  diff_1\n",
       "2017-11-01 10:00:00  49501     NaN\n",
       "2017-11-01 10:00:01  49239  -262.0\n",
       "2017-11-01 10:00:02  49666   427.0\n",
       "2017-11-01 10:00:03  50036   370.0\n",
       "2017-11-01 10:00:04  50067    31.0"
      ]
     },
     "execution_count": 13,
     "metadata": {},
     "output_type": "execute_result"
    }
   ],
   "source": [
    "df[\"diff_1\"] = df.diff()\n",
    "df.head()"
   ]
  },
  {
   "cell_type": "markdown",
   "metadata": {},
   "source": [
    "* periodsを指定することで、差分を取る間隔を変更することができる。"
   ]
  },
  {
   "cell_type": "code",
   "execution_count": 14,
   "metadata": {},
   "outputs": [
    {
     "data": {
      "text/html": [
       "<div>\n",
       "<style scoped>\n",
       "    .dataframe tbody tr th:only-of-type {\n",
       "        vertical-align: middle;\n",
       "    }\n",
       "\n",
       "    .dataframe tbody tr th {\n",
       "        vertical-align: top;\n",
       "    }\n",
       "\n",
       "    .dataframe thead th {\n",
       "        text-align: right;\n",
       "    }\n",
       "</style>\n",
       "<table border=\"1\" class=\"dataframe\">\n",
       "  <thead>\n",
       "    <tr style=\"text-align: right;\">\n",
       "      <th></th>\n",
       "      <th>price</th>\n",
       "      <th>diff_1</th>\n",
       "      <th>diff_3</th>\n",
       "    </tr>\n",
       "  </thead>\n",
       "  <tbody>\n",
       "    <tr>\n",
       "      <th>2017-11-01 10:00:00</th>\n",
       "      <td>49501</td>\n",
       "      <td>NaN</td>\n",
       "      <td>NaN</td>\n",
       "    </tr>\n",
       "    <tr>\n",
       "      <th>2017-11-01 10:00:01</th>\n",
       "      <td>49239</td>\n",
       "      <td>-262.0</td>\n",
       "      <td>NaN</td>\n",
       "    </tr>\n",
       "    <tr>\n",
       "      <th>2017-11-01 10:00:02</th>\n",
       "      <td>49666</td>\n",
       "      <td>427.0</td>\n",
       "      <td>NaN</td>\n",
       "    </tr>\n",
       "    <tr>\n",
       "      <th>2017-11-01 10:00:03</th>\n",
       "      <td>50036</td>\n",
       "      <td>370.0</td>\n",
       "      <td>535.0</td>\n",
       "    </tr>\n",
       "    <tr>\n",
       "      <th>2017-11-01 10:00:04</th>\n",
       "      <td>50067</td>\n",
       "      <td>31.0</td>\n",
       "      <td>828.0</td>\n",
       "    </tr>\n",
       "  </tbody>\n",
       "</table>\n",
       "</div>"
      ],
      "text/plain": [
       "                     price  diff_1  diff_3\n",
       "2017-11-01 10:00:00  49501     NaN     NaN\n",
       "2017-11-01 10:00:01  49239  -262.0     NaN\n",
       "2017-11-01 10:00:02  49666   427.0     NaN\n",
       "2017-11-01 10:00:03  50036   370.0   535.0\n",
       "2017-11-01 10:00:04  50067    31.0   828.0"
      ]
     },
     "execution_count": 14,
     "metadata": {},
     "output_type": "execute_result"
    }
   ],
   "source": [
    "df[\"diff_3\"] = df[\"price\"].diff(periods=3)\n",
    "df.head()"
   ]
  },
  {
   "cell_type": "markdown",
   "metadata": {},
   "source": [
    "# 移動平均"
   ]
  },
  {
   "cell_type": "markdown",
   "metadata": {},
   "source": [
    "## rolling\n",
    "* rollingを用いると、移動平均のような、DataFrameを上からなぞりつつ、特定の行数分だけ着目し、計算するということができる。\n",
    "* 下記は、3秒ごとの平均（移動平均）を求めている。\n",
    "* `window` で秒数を指定することができるのは便利。\n",
    "* なお、下記のように、`window` に時間を用いている場合は、オプションの `center` を用いることはできない。"
   ]
  },
  {
   "cell_type": "code",
   "execution_count": 15,
   "metadata": {},
   "outputs": [
    {
     "data": {
      "text/html": [
       "<div>\n",
       "<style scoped>\n",
       "    .dataframe tbody tr th:only-of-type {\n",
       "        vertical-align: middle;\n",
       "    }\n",
       "\n",
       "    .dataframe tbody tr th {\n",
       "        vertical-align: top;\n",
       "    }\n",
       "\n",
       "    .dataframe thead th {\n",
       "        text-align: right;\n",
       "    }\n",
       "</style>\n",
       "<table border=\"1\" class=\"dataframe\">\n",
       "  <thead>\n",
       "    <tr style=\"text-align: right;\">\n",
       "      <th></th>\n",
       "      <th>price</th>\n",
       "      <th>diff_1</th>\n",
       "      <th>diff_3</th>\n",
       "      <th>rolling_mean_3s</th>\n",
       "    </tr>\n",
       "  </thead>\n",
       "  <tbody>\n",
       "    <tr>\n",
       "      <th>2017-11-01 10:00:00</th>\n",
       "      <td>49501</td>\n",
       "      <td>NaN</td>\n",
       "      <td>NaN</td>\n",
       "      <td>49501.000000</td>\n",
       "    </tr>\n",
       "    <tr>\n",
       "      <th>2017-11-01 10:00:01</th>\n",
       "      <td>49239</td>\n",
       "      <td>-262.0</td>\n",
       "      <td>NaN</td>\n",
       "      <td>49370.000000</td>\n",
       "    </tr>\n",
       "    <tr>\n",
       "      <th>2017-11-01 10:00:02</th>\n",
       "      <td>49666</td>\n",
       "      <td>427.0</td>\n",
       "      <td>NaN</td>\n",
       "      <td>49468.666667</td>\n",
       "    </tr>\n",
       "    <tr>\n",
       "      <th>2017-11-01 10:00:03</th>\n",
       "      <td>50036</td>\n",
       "      <td>370.0</td>\n",
       "      <td>535.0</td>\n",
       "      <td>49647.000000</td>\n",
       "    </tr>\n",
       "    <tr>\n",
       "      <th>2017-11-01 10:00:04</th>\n",
       "      <td>50067</td>\n",
       "      <td>31.0</td>\n",
       "      <td>828.0</td>\n",
       "      <td>49923.000000</td>\n",
       "    </tr>\n",
       "  </tbody>\n",
       "</table>\n",
       "</div>"
      ],
      "text/plain": [
       "                     price  diff_1  diff_3  rolling_mean_3s\n",
       "2017-11-01 10:00:00  49501     NaN     NaN     49501.000000\n",
       "2017-11-01 10:00:01  49239  -262.0     NaN     49370.000000\n",
       "2017-11-01 10:00:02  49666   427.0     NaN     49468.666667\n",
       "2017-11-01 10:00:03  50036   370.0   535.0     49647.000000\n",
       "2017-11-01 10:00:04  50067    31.0   828.0     49923.000000"
      ]
     },
     "execution_count": 15,
     "metadata": {},
     "output_type": "execute_result"
    }
   ],
   "source": [
    "df[\"rolling_mean_3s\"] = df[\"price\"].rolling(window=\"3s\").mean()\n",
    "df.head()"
   ]
  },
  {
   "cell_type": "markdown",
   "metadata": {},
   "source": [
    "* 上記は、ある行から過去に遡って3秒の行の平均を求めている。\n",
    "* `2017-11-01 10:00:02` の行であれば、 `2017-11-01 10:00:00`, `2017-11-01 10:00:01`, `2017-11-01 10:00:02` の行の `price` を足し、平均し、 `2017-11-01 10:00:02` の行の `rolling_mean_3s` の列に記載している。\n",
    "* `2017-11-01 10:00:00`はその前2秒のデータがないためあるだけの（その行だけの）平均を求めている。"
   ]
  }
 ],
 "metadata": {
  "kernelspec": {
   "display_name": "Python 3",
   "language": "python",
   "name": "python3"
  },
  "language_info": {
   "codemirror_mode": {
    "name": "ipython",
    "version": 3
   },
   "file_extension": ".py",
   "mimetype": "text/x-python",
   "name": "python",
   "nbconvert_exporter": "python",
   "pygments_lexer": "ipython3",
   "version": "3.6.3"
  }
 },
 "nbformat": 4,
 "nbformat_minor": 2
}
