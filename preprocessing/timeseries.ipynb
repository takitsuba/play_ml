{
 "cells": [
  {
   "cell_type": "markdown",
   "metadata": {},
   "source": [
    "# timeseries\n",
    "* 時系列データの前処理について書いていく。"
   ]
  },
  {
   "cell_type": "markdown",
   "metadata": {},
   "source": [
    "# 差分\n",
    "* 時系列データは1時点離れたデータとの差を用いることが多い。このようなデータを差分系列、階差系列と呼ぶ。"
   ]
  },
  {
   "cell_type": "code",
   "execution_count": 1,
   "metadata": {},
   "outputs": [],
   "source": [
    "import pandas as pd\n",
    "from datetime import datetime, timedelta\n",
    "import numpy as np"
   ]
  },
  {
   "cell_type": "markdown",
   "metadata": {},
   "source": [
    "### サンプルデータの作成"
   ]
  },
  {
   "cell_type": "code",
   "execution_count": 2,
   "metadata": {},
   "outputs": [],
   "source": [
    "# 時間のリストの効率的な作り方がわからない\n",
    "start_time = datetime(2017, 11, 1, 10, 0, 0, 0)\n",
    "time_list = []\n",
    "for i in range(100):\n",
    "    t = start_time + timedelta(seconds=i)\n",
    "    time_list.append(t)\n",
    "    \n",
    "price = 50000\n",
    "price_list = []\n",
    "for _ in range(100):\n",
    "    price += np.random.randint(-500,500)\n",
    "    price_list.append(price)"
   ]
  },
  {
   "cell_type": "code",
   "execution_count": 3,
   "metadata": {},
   "outputs": [
    {
     "data": {
      "text/html": [
       "<div>\n",
       "<style scoped>\n",
       "    .dataframe tbody tr th:only-of-type {\n",
       "        vertical-align: middle;\n",
       "    }\n",
       "\n",
       "    .dataframe tbody tr th {\n",
       "        vertical-align: top;\n",
       "    }\n",
       "\n",
       "    .dataframe thead th {\n",
       "        text-align: right;\n",
       "    }\n",
       "</style>\n",
       "<table border=\"1\" class=\"dataframe\">\n",
       "  <thead>\n",
       "    <tr style=\"text-align: right;\">\n",
       "      <th></th>\n",
       "      <th>price</th>\n",
       "    </tr>\n",
       "  </thead>\n",
       "  <tbody>\n",
       "    <tr>\n",
       "      <th>2017-11-01 10:00:00</th>\n",
       "      <td>50300</td>\n",
       "    </tr>\n",
       "    <tr>\n",
       "      <th>2017-11-01 10:00:01</th>\n",
       "      <td>50444</td>\n",
       "    </tr>\n",
       "    <tr>\n",
       "      <th>2017-11-01 10:00:02</th>\n",
       "      <td>50767</td>\n",
       "    </tr>\n",
       "    <tr>\n",
       "      <th>2017-11-01 10:00:03</th>\n",
       "      <td>51143</td>\n",
       "    </tr>\n",
       "    <tr>\n",
       "      <th>2017-11-01 10:00:04</th>\n",
       "      <td>51544</td>\n",
       "    </tr>\n",
       "    <tr>\n",
       "      <th>2017-11-01 10:00:05</th>\n",
       "      <td>51365</td>\n",
       "    </tr>\n",
       "    <tr>\n",
       "      <th>2017-11-01 10:00:06</th>\n",
       "      <td>50918</td>\n",
       "    </tr>\n",
       "    <tr>\n",
       "      <th>2017-11-01 10:00:07</th>\n",
       "      <td>50882</td>\n",
       "    </tr>\n",
       "    <tr>\n",
       "      <th>2017-11-01 10:00:08</th>\n",
       "      <td>50545</td>\n",
       "    </tr>\n",
       "    <tr>\n",
       "      <th>2017-11-01 10:00:09</th>\n",
       "      <td>50635</td>\n",
       "    </tr>\n",
       "  </tbody>\n",
       "</table>\n",
       "</div>"
      ],
      "text/plain": [
       "                     price\n",
       "2017-11-01 10:00:00  50300\n",
       "2017-11-01 10:00:01  50444\n",
       "2017-11-01 10:00:02  50767\n",
       "2017-11-01 10:00:03  51143\n",
       "2017-11-01 10:00:04  51544\n",
       "2017-11-01 10:00:05  51365\n",
       "2017-11-01 10:00:06  50918\n",
       "2017-11-01 10:00:07  50882\n",
       "2017-11-01 10:00:08  50545\n",
       "2017-11-01 10:00:09  50635"
      ]
     },
     "execution_count": 3,
     "metadata": {},
     "output_type": "execute_result"
    }
   ],
   "source": [
    "df = pd.DataFrame(price_list,index=time_list,columns=[\"price\"])\n",
    "df.head(10)"
   ]
  },
  {
   "cell_type": "markdown",
   "metadata": {},
   "source": [
    "* 上記のような秒間データがあったとする。"
   ]
  },
  {
   "cell_type": "markdown",
   "metadata": {},
   "source": [
    "### 差分の作成"
   ]
  },
  {
   "cell_type": "markdown",
   "metadata": {},
   "source": [
    "* pd.DataFrame.diff()を用いることで、差分を取ることができる。"
   ]
  },
  {
   "cell_type": "code",
   "execution_count": 4,
   "metadata": {},
   "outputs": [
    {
     "data": {
      "text/html": [
       "<div>\n",
       "<style scoped>\n",
       "    .dataframe tbody tr th:only-of-type {\n",
       "        vertical-align: middle;\n",
       "    }\n",
       "\n",
       "    .dataframe tbody tr th {\n",
       "        vertical-align: top;\n",
       "    }\n",
       "\n",
       "    .dataframe thead th {\n",
       "        text-align: right;\n",
       "    }\n",
       "</style>\n",
       "<table border=\"1\" class=\"dataframe\">\n",
       "  <thead>\n",
       "    <tr style=\"text-align: right;\">\n",
       "      <th></th>\n",
       "      <th>price</th>\n",
       "      <th>diff_1</th>\n",
       "    </tr>\n",
       "  </thead>\n",
       "  <tbody>\n",
       "    <tr>\n",
       "      <th>2017-11-01 10:00:00</th>\n",
       "      <td>50300</td>\n",
       "      <td>NaN</td>\n",
       "    </tr>\n",
       "    <tr>\n",
       "      <th>2017-11-01 10:00:01</th>\n",
       "      <td>50444</td>\n",
       "      <td>144.0</td>\n",
       "    </tr>\n",
       "    <tr>\n",
       "      <th>2017-11-01 10:00:02</th>\n",
       "      <td>50767</td>\n",
       "      <td>323.0</td>\n",
       "    </tr>\n",
       "    <tr>\n",
       "      <th>2017-11-01 10:00:03</th>\n",
       "      <td>51143</td>\n",
       "      <td>376.0</td>\n",
       "    </tr>\n",
       "    <tr>\n",
       "      <th>2017-11-01 10:00:04</th>\n",
       "      <td>51544</td>\n",
       "      <td>401.0</td>\n",
       "    </tr>\n",
       "  </tbody>\n",
       "</table>\n",
       "</div>"
      ],
      "text/plain": [
       "                     price  diff_1\n",
       "2017-11-01 10:00:00  50300     NaN\n",
       "2017-11-01 10:00:01  50444   144.0\n",
       "2017-11-01 10:00:02  50767   323.0\n",
       "2017-11-01 10:00:03  51143   376.0\n",
       "2017-11-01 10:00:04  51544   401.0"
      ]
     },
     "execution_count": 4,
     "metadata": {},
     "output_type": "execute_result"
    }
   ],
   "source": [
    "df[\"diff_1\"] = df.diff()\n",
    "df.head()"
   ]
  },
  {
   "cell_type": "markdown",
   "metadata": {},
   "source": [
    "* periodsを指定することで、差分を取る間隔を変更することができる。"
   ]
  },
  {
   "cell_type": "code",
   "execution_count": 5,
   "metadata": {},
   "outputs": [
    {
     "data": {
      "text/html": [
       "<div>\n",
       "<style scoped>\n",
       "    .dataframe tbody tr th:only-of-type {\n",
       "        vertical-align: middle;\n",
       "    }\n",
       "\n",
       "    .dataframe tbody tr th {\n",
       "        vertical-align: top;\n",
       "    }\n",
       "\n",
       "    .dataframe thead th {\n",
       "        text-align: right;\n",
       "    }\n",
       "</style>\n",
       "<table border=\"1\" class=\"dataframe\">\n",
       "  <thead>\n",
       "    <tr style=\"text-align: right;\">\n",
       "      <th></th>\n",
       "      <th>price</th>\n",
       "      <th>diff_1</th>\n",
       "      <th>diff_3</th>\n",
       "    </tr>\n",
       "  </thead>\n",
       "  <tbody>\n",
       "    <tr>\n",
       "      <th>2017-11-01 10:00:00</th>\n",
       "      <td>50300</td>\n",
       "      <td>NaN</td>\n",
       "      <td>NaN</td>\n",
       "    </tr>\n",
       "    <tr>\n",
       "      <th>2017-11-01 10:00:01</th>\n",
       "      <td>50444</td>\n",
       "      <td>144.0</td>\n",
       "      <td>NaN</td>\n",
       "    </tr>\n",
       "    <tr>\n",
       "      <th>2017-11-01 10:00:02</th>\n",
       "      <td>50767</td>\n",
       "      <td>323.0</td>\n",
       "      <td>NaN</td>\n",
       "    </tr>\n",
       "    <tr>\n",
       "      <th>2017-11-01 10:00:03</th>\n",
       "      <td>51143</td>\n",
       "      <td>376.0</td>\n",
       "      <td>843.0</td>\n",
       "    </tr>\n",
       "    <tr>\n",
       "      <th>2017-11-01 10:00:04</th>\n",
       "      <td>51544</td>\n",
       "      <td>401.0</td>\n",
       "      <td>1100.0</td>\n",
       "    </tr>\n",
       "  </tbody>\n",
       "</table>\n",
       "</div>"
      ],
      "text/plain": [
       "                     price  diff_1  diff_3\n",
       "2017-11-01 10:00:00  50300     NaN     NaN\n",
       "2017-11-01 10:00:01  50444   144.0     NaN\n",
       "2017-11-01 10:00:02  50767   323.0     NaN\n",
       "2017-11-01 10:00:03  51143   376.0   843.0\n",
       "2017-11-01 10:00:04  51544   401.0  1100.0"
      ]
     },
     "execution_count": 5,
     "metadata": {},
     "output_type": "execute_result"
    }
   ],
   "source": [
    "df[\"diff_3\"] = df[\"price\"].diff(periods=3)\n",
    "df.head()"
   ]
  },
  {
   "cell_type": "markdown",
   "metadata": {},
   "source": [
    "# 移動平均"
   ]
  },
  {
   "cell_type": "markdown",
   "metadata": {},
   "source": [
    "## rolling\n",
    "* rollingを用いると、移動平均のような、DataFrameを上からなぞりつつ、特定の行数分だけ着目し、計算するということができる。\n",
    "* 下記は、3秒ごとの平均（移動平均）を求めている。\n",
    "* `window` で秒数を指定することができるのは便利。\n",
    "* なお、下記のように、`window` に時間を用いている場合は、オプションの `center` を用いることはできない。"
   ]
  },
  {
   "cell_type": "code",
   "execution_count": 6,
   "metadata": {},
   "outputs": [
    {
     "data": {
      "text/html": [
       "<div>\n",
       "<style scoped>\n",
       "    .dataframe tbody tr th:only-of-type {\n",
       "        vertical-align: middle;\n",
       "    }\n",
       "\n",
       "    .dataframe tbody tr th {\n",
       "        vertical-align: top;\n",
       "    }\n",
       "\n",
       "    .dataframe thead th {\n",
       "        text-align: right;\n",
       "    }\n",
       "</style>\n",
       "<table border=\"1\" class=\"dataframe\">\n",
       "  <thead>\n",
       "    <tr style=\"text-align: right;\">\n",
       "      <th></th>\n",
       "      <th>price</th>\n",
       "      <th>diff_1</th>\n",
       "      <th>diff_3</th>\n",
       "      <th>rolling_mean_3s</th>\n",
       "    </tr>\n",
       "  </thead>\n",
       "  <tbody>\n",
       "    <tr>\n",
       "      <th>2017-11-01 10:00:00</th>\n",
       "      <td>50300</td>\n",
       "      <td>NaN</td>\n",
       "      <td>NaN</td>\n",
       "      <td>50300.000000</td>\n",
       "    </tr>\n",
       "    <tr>\n",
       "      <th>2017-11-01 10:00:01</th>\n",
       "      <td>50444</td>\n",
       "      <td>144.0</td>\n",
       "      <td>NaN</td>\n",
       "      <td>50372.000000</td>\n",
       "    </tr>\n",
       "    <tr>\n",
       "      <th>2017-11-01 10:00:02</th>\n",
       "      <td>50767</td>\n",
       "      <td>323.0</td>\n",
       "      <td>NaN</td>\n",
       "      <td>50503.666667</td>\n",
       "    </tr>\n",
       "    <tr>\n",
       "      <th>2017-11-01 10:00:03</th>\n",
       "      <td>51143</td>\n",
       "      <td>376.0</td>\n",
       "      <td>843.0</td>\n",
       "      <td>50784.666667</td>\n",
       "    </tr>\n",
       "    <tr>\n",
       "      <th>2017-11-01 10:00:04</th>\n",
       "      <td>51544</td>\n",
       "      <td>401.0</td>\n",
       "      <td>1100.0</td>\n",
       "      <td>51151.333333</td>\n",
       "    </tr>\n",
       "  </tbody>\n",
       "</table>\n",
       "</div>"
      ],
      "text/plain": [
       "                     price  diff_1  diff_3  rolling_mean_3s\n",
       "2017-11-01 10:00:00  50300     NaN     NaN     50300.000000\n",
       "2017-11-01 10:00:01  50444   144.0     NaN     50372.000000\n",
       "2017-11-01 10:00:02  50767   323.0     NaN     50503.666667\n",
       "2017-11-01 10:00:03  51143   376.0   843.0     50784.666667\n",
       "2017-11-01 10:00:04  51544   401.0  1100.0     51151.333333"
      ]
     },
     "execution_count": 6,
     "metadata": {},
     "output_type": "execute_result"
    }
   ],
   "source": [
    "df[\"rolling_mean_3s\"] = df[\"price\"].rolling(window=\"3s\").mean()\n",
    "df.head()"
   ]
  },
  {
   "cell_type": "markdown",
   "metadata": {},
   "source": [
    "* 上記は、ある行から過去に遡って3秒の行の平均を求めている。\n",
    "* `2017-11-01 10:00:02` の行であれば、 `2017-11-01 10:00:00`, `2017-11-01 10:00:01`, `2017-11-01 10:00:02` の行の `price` を足し、平均し、 `2017-11-01 10:00:02` の行の `rolling_mean_3s` の列に記載している。\n",
    "* `2017-11-01 10:00:00`はその前2秒のデータがないためあるだけの（その行だけの）平均を求めている。"
   ]
  }
 ],
 "metadata": {
  "kernelspec": {
   "display_name": "Python 3",
   "language": "python",
   "name": "python3"
  },
  "language_info": {
   "codemirror_mode": {
    "name": "ipython",
    "version": 3
   },
   "file_extension": ".py",
   "mimetype": "text/x-python",
   "name": "python",
   "nbconvert_exporter": "python",
   "pygments_lexer": "ipython3",
   "version": "3.6.3"
  }
 },
 "nbformat": 4,
 "nbformat_minor": 2
}
