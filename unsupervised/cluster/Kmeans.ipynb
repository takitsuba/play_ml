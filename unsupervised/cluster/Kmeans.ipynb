{
 "cells": [
  {
   "cell_type": "markdown",
   "metadata": {},
   "source": [
    "# Kmeans\n",
    "* Kmeansは教師なし学習の1つ。クラスタリングの手法。\n",
    "* 近いもの同士を同じクラスとして見て、K個に分類する。"
   ]
  },
  {
   "cell_type": "code",
   "execution_count": 1,
   "metadata": {},
   "outputs": [],
   "source": [
    "from sklearn.cluster import KMeans\n",
    "import numpy as np\n",
    "import matplotlib.pyplot as plt\n",
    "import seaborn as sns\n",
    "sns.set_style(\"darkgrid\")\n",
    "%matplotlib inline\n",
    "\n",
    "X = np.array([[1,1],[1,2],[2,1],\n",
    "             [4,1],[5,1],[4,2],\n",
    "             [2,5],[2,6],[3,6]])"
   ]
  },
  {
   "cell_type": "code",
   "execution_count": 2,
   "metadata": {},
   "outputs": [
    {
     "data": {
      "text/plain": [
       "<matplotlib.collections.PathCollection at 0x10b2da160>"
      ]
     },
     "execution_count": 2,
     "metadata": {},
     "output_type": "execute_result"
    },
    {
     "data": {
      "image/png": "[encoded data removed]",
      "text/plain": [
       "<matplotlib.figure.Figure at 0x1048a52b0>"
      ]
     },
     "metadata": {},
     "output_type": "display_data"
    }
   ],
   "source": [
    "plt.scatter(X[:,0],X[:,1])"
   ]
  },
  {
   "cell_type": "markdown",
   "metadata": {},
   "source": [
    "* 上の表を見ると、上と左下と右下に3つのグループがあるように見える。これを機械的に3つに分類する。\n",
    "* アルゴリズムとしては下記。K=3とする。\n",
    "    1. K個のサンプルを適当に取り出し、それぞれをクラスA,B,Cとする。\n",
    "    2. 余ったサンプルを、1で分類したサンプルのうち、どれに最も近いのか調べる。\n",
    "    3. 最も近いクラスに分類する。\n",
    "    4. クラスA,B,Cごとで平均A',B',C'を取る。\n",
    "    5. 全サンプルを、A_m、B_m,C_mのどれに最も近いのか調べ、最も平均の近いクラスA,B,Cに分類する。\n",
    "    6. 平均が動かなくなるまで、4~5を繰り返す。\n",
    "* 実行したのが下記。"
   ]
  },
  {
   "cell_type": "code",
   "execution_count": 3,
   "metadata": {},
   "outputs": [
    {
     "data": {
      "text/plain": [
       "array([2, 2, 2, 0, 0, 0, 1, 1, 1], dtype=int32)"
      ]
     },
     "execution_count": 3,
     "metadata": {},
     "output_type": "execute_result"
    }
   ],
   "source": [
    "kmeans = KMeans(n_clusters=3, random_state=0).fit(X)\n",
    "kmeans.labels_"
   ]
  },
  {
   "cell_type": "code",
   "execution_count": 4,
   "metadata": {},
   "outputs": [
    {
     "data": {
      "text/plain": [
       "<matplotlib.collections.PathCollection at 0x10b3d76a0>"
      ]
     },
     "execution_count": 4,
     "metadata": {},
     "output_type": "execute_result"
    },
    {
     "data": {
      "image/png": "[encoded data removed]",
      "text/plain": [
       "<matplotlib.figure.Figure at 0x10b2a62b0>"
      ]
     },
     "metadata": {},
     "output_type": "display_data"
    }
   ],
   "source": [
    "plt.scatter(X[:,0],X[:,1],c=kmeans.labels_,cmap='Accent')"
   ]
  },
  {
   "cell_type": "markdown",
   "metadata": {},
   "source": [
    "* 上記を見ると、人間の感覚と同じように3つに分類できている。\n",
    "* ただし、上記ではK=3の指定は恣意的に行ってしまっている。Kの数の決め方としては[エルボー法](https://qiita.com/deaikei/items/11a10fde5bb47a2cf2c2#%E3%82%A8%E3%83%AB%E3%83%9C%E3%83%BC%E6%B3%95)などがある。"
   ]
  }
 ],
 "metadata": {
  "kernelspec": {
   "display_name": "Python 3",
   "language": "python",
   "name": "python3"
  },
  "language_info": {
   "codemirror_mode": {
    "name": "ipython",
    "version": 3
   },
   "file_extension": ".py",
   "mimetype": "text/x-python",
   "name": "python",
   "nbconvert_exporter": "python",
   "pygments_lexer": "ipython3",
   "version": "3.6.3"
  }
 },
 "nbformat": 4,
 "nbformat_minor": 2
}
