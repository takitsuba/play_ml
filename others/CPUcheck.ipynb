{
 "cells": [
  {
   "cell_type": "markdown",
   "metadata": {},
   "source": [
    "# htop\n",
    "* コマンド `htop`\n",
    "* 8コアのCPUなどをクラウドで借りた際に、CPUがちゃんと全て使われているかを確認する際のコマンド\n",
    "* 入力すると、下記画像のようなものが表示される"
   ]
  },
  {
   "cell_type": "markdown",
   "metadata": {},
   "source": [
    "<img src=\"cpucheck.png\">"
   ]
  }
 ],
 "metadata": {
  "kernelspec": {
   "display_name": "Python 3",
   "language": "python",
   "name": "python3"
  },
  "language_info": {
   "codemirror_mode": {
    "name": "ipython",
    "version": 3
   },
   "file_extension": ".py",
   "mimetype": "text/x-python",
   "name": "python",
   "nbconvert_exporter": "python",
   "pygments_lexer": "ipython3",
   "version": "3.6.3"
  }
 },
 "nbformat": 4,
 "nbformat_minor": 2
}
