{
 "cells": [
  {
   "cell_type": "markdown",
   "metadata": {},
   "source": [
    "# StratifiedKFold\n",
    "* CVをする際に、ラベルの比率が揃うようにtrainデータとtestデータを分けてくれるもの\n",
    "* データをK個に分け、1個をvalidデータに、K-1個をtrainデータとする。その際に、例えばtrainデータにしかないラベルがあったりするとvalidに対して正しく学習できないので、trainとvalidのラベルの比率を等しくするようにする。"
   ]
  },
  {
   "cell_type": "code",
   "execution_count": 1,
   "metadata": {},
   "outputs": [
    {
     "name": "stdout",
     "output_type": "stream",
     "text": [
      "train_index: [3 4 5 6 7 8]    valid_index: [0 1 2]\n",
      "X_train: [[4 4 4]\n",
      " [5 5 5]\n",
      " [6 6 6]\n",
      " [7 7 7]\n",
      " [8 8 8]\n",
      " [9 9 9]]\n",
      "X_valid: [[1 1 1]\n",
      " [2 2 2]\n",
      " [3 3 3]]\n",
      "y_train: [1 2 3 1 2 3]\n",
      "y_valid: [1 2 3]\n",
      "-----------------------------\n",
      "train_index: [0 1 2 6 7 8]    valid_index: [3 4 5]\n",
      "X_train: [[1 1 1]\n",
      " [2 2 2]\n",
      " [3 3 3]\n",
      " [7 7 7]\n",
      " [8 8 8]\n",
      " [9 9 9]]\n",
      "X_valid: [[4 4 4]\n",
      " [5 5 5]\n",
      " [6 6 6]]\n",
      "y_train: [1 2 3 1 2 3]\n",
      "y_valid: [1 2 3]\n",
      "-----------------------------\n",
      "train_index: [0 1 2 3 4 5]    valid_index: [6 7 8]\n",
      "X_train: [[1 1 1]\n",
      " [2 2 2]\n",
      " [3 3 3]\n",
      " [4 4 4]\n",
      " [5 5 5]\n",
      " [6 6 6]]\n",
      "X_valid: [[7 7 7]\n",
      " [8 8 8]\n",
      " [9 9 9]]\n",
      "y_train: [1 2 3 1 2 3]\n",
      "y_valid: [1 2 3]\n",
      "-----------------------------\n"
     ]
    }
   ],
   "source": [
    "from sklearn.model_selection import StratifiedKFold\n",
    "import numpy as np\n",
    "# 9つのデータがそれぞれクラス1、2、3に属しているとする。\n",
    "X = np.array([[1,1,1],[2,2,2],[3,3,3],[4,4,4],[5,5,5],[6,6,6],[7,7,7],[8,8,8],[9,9,9]])\n",
    "y = np.array([1,2,3,1,2,3,1,2,3])\n",
    "# n_splitsでKの数を指定\n",
    "skf = StratifiedKFold(n_splits=3)\n",
    "for train_index, valid_index in skf.split(X,y):\n",
    "    print(\"train_index:\",train_index,\"  \",\"valid_index:\",valid_index)\n",
    "    print(\"X_train:\",X[train_index])\n",
    "    print(\"X_valid:\",X[valid_index])\n",
    "    print(\"y_train:\",y[train_index])\n",
    "    print(\"y_valid:\",y[valid_index])\n",
    "    print(\"-----------------------------\")"
   ]
  },
  {
   "cell_type": "markdown",
   "metadata": {},
   "source": [
    "* 上記ではK=3と設定した。\n",
    "* trainとvalidのクラス(y)を見てみると、1〜3のクラスの比率が等しくなっている。\n",
    "* 最も少ないラベルの数よりKを大きくすることはできない。上記ではクラス1〜3のそれぞれのサンプル数が3なので、Kに4以上を入れることはできない"
   ]
  }
 ],
 "metadata": {
  "kernelspec": {
   "display_name": "Python 3",
   "language": "python",
   "name": "python3"
  },
  "language_info": {
   "codemirror_mode": {
    "name": "ipython",
    "version": 3
   },
   "file_extension": ".py",
   "mimetype": "text/x-python",
   "name": "python",
   "nbconvert_exporter": "python",
   "pygments_lexer": "ipython3",
   "version": "3.6.3"
  }
 },
 "nbformat": 4,
 "nbformat_minor": 2
}
