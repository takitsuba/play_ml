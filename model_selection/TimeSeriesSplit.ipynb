{
 "cells": [
  {
   "cell_type": "markdown",
   "metadata": {},
   "source": [
    "# TimeSeriesSplit\n",
    "* 時系列データをtrainとtestに分割する際のメソッド\n",
    "* 時系列データはシャッフルしてtrainとtestに分割するのは、適さない。時系列データの場合、trainデータはtestデータより時間的に前である必要がある。\n",
    "* TimeSeriesSplitはK+1個にデータを分割し、下記を返す。\n",
    "    * 1番目をtrain,2番目をtest\n",
    "    * 1~2番目をtrain,3番目をtest\n",
    "    * 1~3番目をtrain,4番目をtest\n",
    "    * ・・・\n",
    "    * 1~K番目をtrain,K+1番目をtest\n",
    "* K個のtrain, testの組み合わせを得ることができる\n",
    "* testデータのn数は変わらないが、trainデータのn数は変わるため、注意が必要。"
   ]
  },
  {
   "cell_type": "code",
   "execution_count": 1,
   "metadata": {},
   "outputs": [
    {
     "data": {
      "text/html": [
       "<div>\n",
       "<style scoped>\n",
       "    .dataframe tbody tr th:only-of-type {\n",
       "        vertical-align: middle;\n",
       "    }\n",
       "\n",
       "    .dataframe tbody tr th {\n",
       "        vertical-align: top;\n",
       "    }\n",
       "\n",
       "    .dataframe thead th {\n",
       "        text-align: right;\n",
       "    }\n",
       "</style>\n",
       "<table border=\"1\" class=\"dataframe\">\n",
       "  <thead>\n",
       "    <tr style=\"text-align: right;\">\n",
       "      <th></th>\n",
       "      <th>price</th>\n",
       "    </tr>\n",
       "  </thead>\n",
       "  <tbody>\n",
       "    <tr>\n",
       "      <th>2017-11-01 10:00:00</th>\n",
       "      <td>49784</td>\n",
       "    </tr>\n",
       "    <tr>\n",
       "      <th>2017-11-01 10:00:01</th>\n",
       "      <td>49433</td>\n",
       "    </tr>\n",
       "    <tr>\n",
       "      <th>2017-11-01 10:00:02</th>\n",
       "      <td>49360</td>\n",
       "    </tr>\n",
       "    <tr>\n",
       "      <th>2017-11-01 10:00:03</th>\n",
       "      <td>49844</td>\n",
       "    </tr>\n",
       "    <tr>\n",
       "      <th>2017-11-01 10:00:04</th>\n",
       "      <td>49615</td>\n",
       "    </tr>\n",
       "    <tr>\n",
       "      <th>2017-11-01 10:00:05</th>\n",
       "      <td>50070</td>\n",
       "    </tr>\n",
       "    <tr>\n",
       "      <th>2017-11-01 10:00:06</th>\n",
       "      <td>50233</td>\n",
       "    </tr>\n",
       "    <tr>\n",
       "      <th>2017-11-01 10:00:07</th>\n",
       "      <td>50479</td>\n",
       "    </tr>\n",
       "    <tr>\n",
       "      <th>2017-11-01 10:00:08</th>\n",
       "      <td>50504</td>\n",
       "    </tr>\n",
       "    <tr>\n",
       "      <th>2017-11-01 10:00:09</th>\n",
       "      <td>50443</td>\n",
       "    </tr>\n",
       "  </tbody>\n",
       "</table>\n",
       "</div>"
      ],
      "text/plain": [
       "                     price\n",
       "2017-11-01 10:00:00  49784\n",
       "2017-11-01 10:00:01  49433\n",
       "2017-11-01 10:00:02  49360\n",
       "2017-11-01 10:00:03  49844\n",
       "2017-11-01 10:00:04  49615\n",
       "2017-11-01 10:00:05  50070\n",
       "2017-11-01 10:00:06  50233\n",
       "2017-11-01 10:00:07  50479\n",
       "2017-11-01 10:00:08  50504\n",
       "2017-11-01 10:00:09  50443"
      ]
     },
     "execution_count": 1,
     "metadata": {},
     "output_type": "execute_result"
    }
   ],
   "source": [
    "from datetime import datetime, timedelta\n",
    "import numpy as np\n",
    "import pandas as pd\n",
    "from sklearn.model_selection import TimeSeriesSplit\n",
    "\n",
    "\n",
    "start_time = datetime(2017, 11, 1, 10, 0, 0, 0)\n",
    "time_list = []\n",
    "for i in range(100):\n",
    "    t = start_time + timedelta(seconds=i)\n",
    "    time_list.append(t)\n",
    "    \n",
    "price = 50000\n",
    "price_list = []\n",
    "for _ in range(100):\n",
    "    price += np.random.randint(-500,500)\n",
    "    price_list.append(price)\n",
    "    \n",
    "df = pd.DataFrame(price_list,index=time_list,columns=[\"price\"])\n",
    "df.head(10)"
   ]
  },
  {
   "cell_type": "code",
   "execution_count": 2,
   "metadata": {},
   "outputs": [
    {
     "data": {
      "text/plain": [
       "(100, 1)"
      ]
     },
     "execution_count": 2,
     "metadata": {},
     "output_type": "execute_result"
    }
   ],
   "source": [
    "df.shape"
   ]
  },
  {
   "cell_type": "markdown",
   "metadata": {},
   "source": [
    "* 今回は100時点の時系列データを用いる。\n",
    "* n_splitsで幾つのtrain,testの組み合わせを得るか指定できる。(冒頭のKを指定している)"
   ]
  },
  {
   "cell_type": "code",
   "execution_count": 3,
   "metadata": {},
   "outputs": [
    {
     "name": "stdout",
     "output_type": "stream",
     "text": [
      "1つ目\n",
      "train: [ 0  1  2  3  4  5  6  7  8  9 10 11 12 13 14 15 16 17 18 19 20 21 22 23 24]\n",
      "test: [25 26 27 28 29 30 31 32 33 34 35 36 37 38 39 40 41 42 43 44 45 46 47 48 49]\n",
      "---\n",
      "2つ目\n",
      "train: [ 0  1  2  3  4  5  6  7  8  9 10 11 12 13 14 15 16 17 18 19 20 21 22 23 24\n",
      " 25 26 27 28 29 30 31 32 33 34 35 36 37 38 39 40 41 42 43 44 45 46 47 48 49]\n",
      "test: [50 51 52 53 54 55 56 57 58 59 60 61 62 63 64 65 66 67 68 69 70 71 72 73 74]\n",
      "---\n",
      "3つ目\n",
      "train: [ 0  1  2  3  4  5  6  7  8  9 10 11 12 13 14 15 16 17 18 19 20 21 22 23 24\n",
      " 25 26 27 28 29 30 31 32 33 34 35 36 37 38 39 40 41 42 43 44 45 46 47 48 49\n",
      " 50 51 52 53 54 55 56 57 58 59 60 61 62 63 64 65 66 67 68 69 70 71 72 73 74]\n",
      "test: [75 76 77 78 79 80 81 82 83 84 85 86 87 88 89 90 91 92 93 94 95 96 97 98 99]\n",
      "---\n"
     ]
    }
   ],
   "source": [
    "tss = TimeSeriesSplit(n_splits=3)\n",
    "for i, (train, test) in enumerate(tss.split(df)):\n",
    "    print(str(i+1)+\"つ目\")\n",
    "    print(\"train:\",train)\n",
    "    print(\"test:\",  test)\n",
    "    print(\"---\")"
   ]
  },
  {
   "cell_type": "markdown",
   "metadata": {},
   "source": [
    "* 100時点のデータを4つに分割し、下記のtrain,testの組み合わせを得ている。\n",
    "    * 0~24をtrain, 25~49をtest\n",
    "    * 0~49をtrain, 50~74をtest\n",
    "    * 0~74をtrain, 75~99をtest"
   ]
  }
 ],
 "metadata": {
  "kernelspec": {
   "display_name": "Python 3",
   "language": "python",
   "name": "python3"
  },
  "language_info": {
   "codemirror_mode": {
    "name": "ipython",
    "version": 3
   },
   "file_extension": ".py",
   "mimetype": "text/x-python",
   "name": "python",
   "nbconvert_exporter": "python",
   "pygments_lexer": "ipython3",
   "version": "3.6.3"
  }
 },
 "nbformat": 4,
 "nbformat_minor": 2
}
