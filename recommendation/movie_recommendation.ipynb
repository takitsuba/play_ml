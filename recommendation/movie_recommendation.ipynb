{
 "cells": [
  {
   "cell_type": "markdown",
   "metadata": {},
   "source": [
    "# 映画の推薦システム\n",
    "* ここでは推薦アルゴリズムの勉強のために、映画データをもとにした推薦システムを実装する。\n",
    "* なお、書籍[仕事ではじめる機械学習](http://amzn.to/2DKKS2g)のChap7の[GitHubレポジトリ](https://github.com/oreilly-japan/ml-at-work/blob/master/chap07/Movie_recommendation.ipynb)を参考にしている。\n",
    "* ここでは`fastFM`というライブラリを用いて、`Factorization Machines`というアルゴリズムで推薦を実装する。"
   ]
  },
  {
   "cell_type": "markdown",
   "metadata": {},
   "source": [
    "## Factorization Machinesとは\n",
    "* まず、`Matrix Factorization`というものがある。これは、レーティングの評価行列を、ユーザーの行列とアイテムの行列で表現すること。\n",
    "    * m x nの評価行列R（m人のユーザー、nこのアイテム）がある時に、これをユーザー行列Uとアイテム行列Iに分解する。\n",
    "    * このとき、Rは疎な行列。\n",
    "    * U,Iは密な行列\n",
    "* 上記の`Matrix Factorization`を一般化したのが`Factorization Machines`。"
   ]
  },
  {
   "cell_type": "markdown",
   "metadata": {},
   "source": [
    "## Factorization Machinesの特徴\n",
    "* ユーザーとアイテムの情報以外の特徴量も扱うことができる。\n",
    "* `Matrix Factorization`と同じく疎な行列を扱うことができる。\n",
    "* "
   ]
  },
  {
   "cell_type": "markdown",
   "metadata": {},
   "source": [
    "## fastFMの動作確認"
   ]
  },
  {
   "cell_type": "code",
   "execution_count": null,
   "metadata": {},
   "outputs": [],
   "source": [
    "* fastFMは"
   ]
  },
  {
   "cell_type": "code",
   "execution_count": 5,
   "metadata": {},
   "outputs": [],
   "source": [
    "from sklearn.model_selection import learning_curve\n",
    "import numpy as np\n",
    "from fastFM import als\n",
    "\n",
    "from sklearn.feature_extraction import DictVectorizer\n",
    "\n",
    "train = [\n",
    "    {\"user\":\"1\", \"item\":\"5\",\"age\":19},\n",
    "    {\"user\":\"2\", \"item\":\"43\",\"age\":33},\n",
    "    {\"user\":\"3\", \"item\":\"20\",\"age\":55},\n",
    "    {\"user\":\"4\", \"item\":\"10\",\"age\":20},\n",
    "]"
   ]
  },
  {
   "cell_type": "code",
   "execution_count": 8,
   "metadata": {},
   "outputs": [
    {
     "data": {
      "text/plain": [
       "array([[19.,  0.,  0.,  0.,  1.,  1.,  0.,  0.,  0.],\n",
       "       [33.,  0.,  0.,  1.,  0.,  0.,  1.,  0.,  0.],\n",
       "       [55.,  0.,  1.,  0.,  0.,  0.,  0.,  1.,  0.],\n",
       "       [20.,  1.,  0.,  0.,  0.,  0.,  0.,  0.,  1.]])"
      ]
     },
     "execution_count": 8,
     "metadata": {},
     "output_type": "execute_result"
    }
   ],
   "source": [
    "v = DictVectorizer()\n",
    "X = v.fit_transform(train)\n",
    "X.toarray()"
   ]
  },
  {
   "cell_type": "markdown",
   "metadata": {},
   "source": [
    "* `DictVectorizer`は文字列型をOneHotに変更してくれるようだ。"
   ]
  },
  {
   "cell_type": "code",
   "execution_count": 10,
   "metadata": {},
   "outputs": [
    {
     "data": {
      "text/plain": [
       "array([5., 1., 2., 4.])"
      ]
     },
     "execution_count": 10,
     "metadata": {},
     "output_type": "execute_result"
    }
   ],
   "source": [
    "y = np.array([5.0, 1.0, 2.0, 4.0])\n",
    "y"
   ]
  },
  {
   "cell_type": "code",
   "execution_count": 15,
   "metadata": {},
   "outputs": [
    {
     "data": {
      "text/plain": [
       "array([3.60775939])"
      ]
     },
     "execution_count": 15,
     "metadata": {},
     "output_type": "execute_result"
    }
   ],
   "source": [
    "fm = als.FMRegression(n_iter=1000, init_stdev=0.1, rank=2, l2_reg_w=0.1, l2_reg_V=0.5)\n",
    "fm.fit(X,y)\n",
    "fm.predict(v.transform({\"user\":\"5\",\"item\":\"10\", \"age\":24}))"
   ]
  }
 ],
 "metadata": {
  "kernelspec": {
   "display_name": "Python 3",
   "language": "python",
   "name": "python3"
  },
  "language_info": {
   "codemirror_mode": {
    "name": "ipython",
    "version": 3
   },
   "file_extension": ".py",
   "mimetype": "text/x-python",
   "name": "python",
   "nbconvert_exporter": "python",
   "pygments_lexer": "ipython3",
   "version": "3.6.3"
  }
 },
 "nbformat": 4,
 "nbformat_minor": 2
}
